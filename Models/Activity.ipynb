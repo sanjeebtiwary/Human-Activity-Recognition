{
 "cells": [
  {
   "cell_type": "code",
   "execution_count": 2,
   "metadata": {
    "pycharm": {
     "is_executing": true
    }
   },
   "outputs": [],
   "source": [
    "from collections import deque\n",
    "import numpy as np\n",
    "import cv2"
   ]
  },
  {
   "cell_type": "code",
   "execution_count": 20,
   "metadata": {},
   "outputs": [],
   "source": [
    "class Parameters:\n",
    "    def __init__(self):\n",
    "        self.CLASSES = open(\"action_recognition_kinetics.txt\"\n",
    "                            ).read().strip().split(\"\\n\")\n",
    "        self.ACTION_RESNET = 'resnet-34_kinetics.onnx'\n",
    "#         self.VIDEO_PATH = None\n",
    "        self.VIDEO_PATH = \"test/example1.mp4\"\n",
    "        # SAMPLE_DURATION is maximum deque size\n",
    "        self.SAMPLE_DURATION = 16\n",
    "        self.SAMPLE_SIZE = 112"
   ]
  },
  {
   "cell_type": "code",
   "execution_count": 21,
   "metadata": {},
   "outputs": [
    {
     "name": "stdout",
     "output_type": "stream",
     "text": [
      "[INFO] loading human activity recognition model...\n",
      "[INFO] accessing video stream...\n"
     ]
    }
   ],
   "source": [
    "#Initialise instance of Class Parameter\n",
    "param = Parameters()\n",
    "\n",
    "# A Double ended queue to store our frames captured and with time\n",
    "# old frames will pop\n",
    "# out of the deque\n",
    "captures = deque(maxlen=param.SAMPLE_DURATION)\n",
    "\n",
    "# load the human activity recognition model\n",
    "print(\"[INFO] loading human activity recognition model...\")\n",
    "net = cv2.dnn.readNet(model=param.ACTION_RESNET)\n",
    "\n",
    "print(\"[INFO] accessing video stream...\")\n",
    "# Take video file as input if given else turn on web-cam\n",
    "# So, the input should be mp4 file or live web-cam video\n",
    "vs = cv2.VideoCapture(param.VIDEO_PATH if param.VIDEO_PATH else 0)\n"
   ]
  },
  {
   "cell_type": "code",
   "execution_count": 22,
   "metadata": {},
   "outputs": [
    {
     "name": "stdout",
     "output_type": "stream",
     "text": [
      "[INFO] no capture read from stream - exiting\n"
     ]
    }
   ],
   "source": [
    "while True:\n",
    "    # Loop over and read capture from the given video input\n",
    "    (grabbed, capture) = vs.read()\n",
    "\n",
    "    # break when no frame is grabbed (or end if the video)\n",
    "    if not grabbed:\n",
    "        print(\"[INFO] no capture read from stream - exiting\")\n",
    "        break\n",
    "\n",
    "    # resize frame and append it to our deque\n",
    "    capture = cv2.resize(capture, dsize=(550, 400))\n",
    "    captures.append(capture)\n",
    "\n",
    "    # Process further only when the deque is filled\n",
    "    if len(captures) < param.SAMPLE_DURATION:\n",
    "        continue\n",
    "\n",
    "    # now that our captures array is filled we can\n",
    "    # construct our image blob\n",
    "    # We will use SAMPLE_SIZE as height and width for\n",
    "    # modifying the captured frame\n",
    "    imageBlob = cv2.dnn.blobFromImages(captures, 1.0,\n",
    "                                       (param.SAMPLE_SIZE,\n",
    "                                        param.SAMPLE_SIZE),\n",
    "                                       (114.7748, 107.7354, 99.4750),\n",
    "                                       swapRB=True, crop=True)\n",
    "\n",
    "    # Manipulate the image blob to make it fit as as input\n",
    "    # for the pre-trained OpenCV's\n",
    "    # Human Action Recognition Model\n",
    "    imageBlob = np.transpose(imageBlob, (1, 0, 2, 3))\n",
    "    imageBlob = np.expand_dims(imageBlob, axis=0)\n",
    "\n",
    "    # Forward pass through model to make prediction\n",
    "    net.setInput(imageBlob)\n",
    "    outputs = net.forward()\n",
    "    # Index the maximum probability\n",
    "    label = param.CLASSES[np.argmax(outputs)]\n",
    "\n",
    "    # Show the predicted activity\n",
    "    cv2.rectangle(capture, (0, 0), (300, 40), (255, 255, 255), -1)\n",
    "    cv2.putText(capture, label, (10, 25), cv2.FONT_HERSHEY_SIMPLEX,\n",
    "                0.8, (0, 0, 0), 2)\n",
    "\n",
    "    # Display it on the screen\n",
    "    cv2.imshow(\"Human Activity Recognition\", capture)\n",
    "\n",
    "    key = cv2.waitKey(1) & 0xFF\n",
    "    # Press key 'q' to break the loop\n",
    "    if key == ord(\"q\"):\n",
    "        break\n"
   ]
  },
  {
   "cell_type": "code",
   "execution_count": 24,
   "metadata": {},
   "outputs": [
    {
     "name": "stderr",
     "output_type": "stream",
     "text": [
      "Traceback (most recent call last):\n",
      "  File \"D:\\Project\\Human Activity Recognition\\Models\\Activity.ipynb\", line 8, in <module>\n",
      "    \"is_executing\": true\n",
      "                    ^^^^\n",
      "NameError: name 'true' is not defined. Did you mean: 'True'?\n"
     ]
    }
   ],
   "source": [
    "!python Activity.ipynb"
   ]
  },
  {
   "cell_type": "code",
   "execution_count": null,
   "metadata": {},
   "outputs": [],
   "source": []
  }
 ],
 "metadata": {
  "kernelspec": {
   "display_name": "Python 3 (ipykernel)",
   "language": "python",
   "name": "python3"
  },
  "language_info": {
   "codemirror_mode": {
    "name": "ipython",
    "version": 3
   },
   "file_extension": ".py",
   "mimetype": "text/x-python",
   "name": "python",
   "nbconvert_exporter": "python",
   "pygments_lexer": "ipython3",
   "version": "3.9.12"
  }
 },
 "nbformat": 4,
 "nbformat_minor": 1
}
